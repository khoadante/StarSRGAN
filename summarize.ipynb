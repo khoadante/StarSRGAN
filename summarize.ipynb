{
 "cells": [
  {
   "cell_type": "code",
   "execution_count": 1,
   "metadata": {},
   "outputs": [],
   "source": [
    "from torchinfo import summary"
   ]
  },
  {
   "cell_type": "markdown",
   "metadata": {},
   "source": [
    "# Real-ESRGAN\n",
    "Generator: 16,697,987\n",
    "\n",
    "Discriminator: 4,376,897\n",
    "\n",
    "# StarSRGAN\n",
    "Generator: 2,453,537\n",
    "\n",
    "Discriminator: 371,137"
   ]
  },
  {
   "cell_type": "code",
   "execution_count": 2,
   "metadata": {},
   "outputs": [],
   "source": [
    "from networks.models import Generator, Discriminator"
   ]
  },
  {
   "cell_type": "code",
   "execution_count": 3,
   "metadata": {},
   "outputs": [
    {
     "data": {
      "text/plain": [
       "===============================================================================================\n",
       "Layer (type:depth-idx)                        Output Shape              Param #\n",
       "===============================================================================================\n",
       "Generator                                     [1, 3, 256, 256]          --\n",
       "├─PixelUnshuffle: 1-1                         [1, 3, 64, 64]            --\n",
       "├─Conv2d: 1-2                                 [1, 3, 64, 64]            30\n",
       "├─Conv2d: 1-3                                 [1, 64, 64, 64]           256\n",
       "├─Sequential: 1-4                             [1, 64, 64, 64]           --\n",
       "│    └─ResidualResidualDenseBlock: 2-1        [1, 64, 64, 64]           --\n",
       "│    │    └─ResidualDenseBlock: 3-1           [1, 64, 64, 64]           35,264\n",
       "│    │    └─ResidualDenseBlock: 3-2           [1, 64, 64, 64]           35,264\n",
       "│    │    └─ResidualDenseBlock: 3-3           [1, 64, 64, 64]           35,264\n",
       "│    └─ResidualResidualDenseBlock: 2-2        [1, 64, 64, 64]           --\n",
       "│    │    └─ResidualDenseBlock: 3-4           [1, 64, 64, 64]           35,264\n",
       "│    │    └─ResidualDenseBlock: 3-5           [1, 64, 64, 64]           35,264\n",
       "│    │    └─ResidualDenseBlock: 3-6           [1, 64, 64, 64]           35,264\n",
       "│    └─ResidualResidualDenseBlock: 2-3        [1, 64, 64, 64]           --\n",
       "│    │    └─ResidualDenseBlock: 3-7           [1, 64, 64, 64]           35,264\n",
       "│    │    └─ResidualDenseBlock: 3-8           [1, 64, 64, 64]           35,264\n",
       "│    │    └─ResidualDenseBlock: 3-9           [1, 64, 64, 64]           35,264\n",
       "│    └─ResidualResidualDenseBlock: 2-4        [1, 64, 64, 64]           --\n",
       "│    │    └─ResidualDenseBlock: 3-10          [1, 64, 64, 64]           35,264\n",
       "│    │    └─ResidualDenseBlock: 3-11          [1, 64, 64, 64]           35,264\n",
       "│    │    └─ResidualDenseBlock: 3-12          [1, 64, 64, 64]           35,264\n",
       "│    └─ResidualResidualDenseBlock: 2-5        [1, 64, 64, 64]           --\n",
       "│    │    └─ResidualDenseBlock: 3-13          [1, 64, 64, 64]           35,264\n",
       "│    │    └─ResidualDenseBlock: 3-14          [1, 64, 64, 64]           35,264\n",
       "│    │    └─ResidualDenseBlock: 3-15          [1, 64, 64, 64]           35,264\n",
       "│    └─ResidualResidualDenseBlock: 2-6        [1, 64, 64, 64]           --\n",
       "│    │    └─ResidualDenseBlock: 3-16          [1, 64, 64, 64]           35,264\n",
       "│    │    └─ResidualDenseBlock: 3-17          [1, 64, 64, 64]           35,264\n",
       "│    │    └─ResidualDenseBlock: 3-18          [1, 64, 64, 64]           35,264\n",
       "│    └─ResidualResidualDenseBlock: 2-7        [1, 64, 64, 64]           --\n",
       "│    │    └─ResidualDenseBlock: 3-19          [1, 64, 64, 64]           35,264\n",
       "│    │    └─ResidualDenseBlock: 3-20          [1, 64, 64, 64]           35,264\n",
       "│    │    └─ResidualDenseBlock: 3-21          [1, 64, 64, 64]           35,264\n",
       "│    └─ResidualResidualDenseBlock: 2-8        [1, 64, 64, 64]           --\n",
       "│    │    └─ResidualDenseBlock: 3-22          [1, 64, 64, 64]           35,264\n",
       "│    │    └─ResidualDenseBlock: 3-23          [1, 64, 64, 64]           35,264\n",
       "│    │    └─ResidualDenseBlock: 3-24          [1, 64, 64, 64]           35,264\n",
       "│    └─ResidualResidualDenseBlock: 2-9        [1, 64, 64, 64]           --\n",
       "│    │    └─ResidualDenseBlock: 3-25          [1, 64, 64, 64]           35,264\n",
       "│    │    └─ResidualDenseBlock: 3-26          [1, 64, 64, 64]           35,264\n",
       "│    │    └─ResidualDenseBlock: 3-27          [1, 64, 64, 64]           35,264\n",
       "│    └─ResidualResidualDenseBlock: 2-10       [1, 64, 64, 64]           --\n",
       "│    │    └─ResidualDenseBlock: 3-28          [1, 64, 64, 64]           35,264\n",
       "│    │    └─ResidualDenseBlock: 3-29          [1, 64, 64, 64]           35,264\n",
       "│    │    └─ResidualDenseBlock: 3-30          [1, 64, 64, 64]           35,264\n",
       "│    └─ResidualResidualDenseBlock: 2-11       [1, 64, 64, 64]           --\n",
       "│    │    └─ResidualDenseBlock: 3-31          [1, 64, 64, 64]           35,264\n",
       "│    │    └─ResidualDenseBlock: 3-32          [1, 64, 64, 64]           35,264\n",
       "│    │    └─ResidualDenseBlock: 3-33          [1, 64, 64, 64]           35,264\n",
       "│    └─ResidualResidualDenseBlock: 2-12       [1, 64, 64, 64]           --\n",
       "│    │    └─ResidualDenseBlock: 3-34          [1, 64, 64, 64]           35,264\n",
       "│    │    └─ResidualDenseBlock: 3-35          [1, 64, 64, 64]           35,264\n",
       "│    │    └─ResidualDenseBlock: 3-36          [1, 64, 64, 64]           35,264\n",
       "│    └─ResidualResidualDenseBlock: 2-13       [1, 64, 64, 64]           --\n",
       "│    │    └─ResidualDenseBlock: 3-37          [1, 64, 64, 64]           35,264\n",
       "│    │    └─ResidualDenseBlock: 3-38          [1, 64, 64, 64]           35,264\n",
       "│    │    └─ResidualDenseBlock: 3-39          [1, 64, 64, 64]           35,264\n",
       "│    └─ResidualResidualDenseBlock: 2-14       [1, 64, 64, 64]           --\n",
       "│    │    └─ResidualDenseBlock: 3-40          [1, 64, 64, 64]           35,264\n",
       "│    │    └─ResidualDenseBlock: 3-41          [1, 64, 64, 64]           35,264\n",
       "│    │    └─ResidualDenseBlock: 3-42          [1, 64, 64, 64]           35,264\n",
       "│    └─ResidualResidualDenseBlock: 2-15       [1, 64, 64, 64]           --\n",
       "│    │    └─ResidualDenseBlock: 3-43          [1, 64, 64, 64]           35,264\n",
       "│    │    └─ResidualDenseBlock: 3-44          [1, 64, 64, 64]           35,264\n",
       "│    │    └─ResidualDenseBlock: 3-45          [1, 64, 64, 64]           35,264\n",
       "│    └─ResidualResidualDenseBlock: 2-16       [1, 64, 64, 64]           --\n",
       "│    │    └─ResidualDenseBlock: 3-46          [1, 64, 64, 64]           35,264\n",
       "│    │    └─ResidualDenseBlock: 3-47          [1, 64, 64, 64]           35,264\n",
       "│    │    └─ResidualDenseBlock: 3-48          [1, 64, 64, 64]           35,264\n",
       "│    └─ResidualResidualDenseBlock: 2-17       [1, 64, 64, 64]           --\n",
       "│    │    └─ResidualDenseBlock: 3-49          [1, 64, 64, 64]           35,264\n",
       "│    │    └─ResidualDenseBlock: 3-50          [1, 64, 64, 64]           35,264\n",
       "│    │    └─ResidualDenseBlock: 3-51          [1, 64, 64, 64]           35,264\n",
       "│    └─ResidualResidualDenseBlock: 2-18       [1, 64, 64, 64]           --\n",
       "│    │    └─ResidualDenseBlock: 3-52          [1, 64, 64, 64]           35,264\n",
       "│    │    └─ResidualDenseBlock: 3-53          [1, 64, 64, 64]           35,264\n",
       "│    │    └─ResidualDenseBlock: 3-54          [1, 64, 64, 64]           35,264\n",
       "│    └─ResidualResidualDenseBlock: 2-19       [1, 64, 64, 64]           --\n",
       "│    │    └─ResidualDenseBlock: 3-55          [1, 64, 64, 64]           35,264\n",
       "│    │    └─ResidualDenseBlock: 3-56          [1, 64, 64, 64]           35,264\n",
       "│    │    └─ResidualDenseBlock: 3-57          [1, 64, 64, 64]           35,264\n",
       "│    └─ResidualResidualDenseBlock: 2-20       [1, 64, 64, 64]           --\n",
       "│    │    └─ResidualDenseBlock: 3-58          [1, 64, 64, 64]           35,264\n",
       "│    │    └─ResidualDenseBlock: 3-59          [1, 64, 64, 64]           35,264\n",
       "│    │    └─ResidualDenseBlock: 3-60          [1, 64, 64, 64]           35,264\n",
       "│    └─ResidualResidualDenseBlock: 2-21       [1, 64, 64, 64]           --\n",
       "│    │    └─ResidualDenseBlock: 3-61          [1, 64, 64, 64]           35,264\n",
       "│    │    └─ResidualDenseBlock: 3-62          [1, 64, 64, 64]           35,264\n",
       "│    │    └─ResidualDenseBlock: 3-63          [1, 64, 64, 64]           35,264\n",
       "│    └─ResidualResidualDenseBlock: 2-22       [1, 64, 64, 64]           --\n",
       "│    │    └─ResidualDenseBlock: 3-64          [1, 64, 64, 64]           35,264\n",
       "│    │    └─ResidualDenseBlock: 3-65          [1, 64, 64, 64]           35,264\n",
       "│    │    └─ResidualDenseBlock: 3-66          [1, 64, 64, 64]           35,264\n",
       "│    └─ResidualResidualDenseBlock: 2-23       [1, 64, 64, 64]           --\n",
       "│    │    └─ResidualDenseBlock: 3-67          [1, 64, 64, 64]           35,264\n",
       "│    │    └─ResidualDenseBlock: 3-68          [1, 64, 64, 64]           35,264\n",
       "│    │    └─ResidualDenseBlock: 3-69          [1, 64, 64, 64]           35,264\n",
       "├─Conv2d: 1-5                                 [1, 64, 64, 64]           640\n",
       "├─Conv2d: 1-6                                 [1, 64, 64, 64]           4,160\n",
       "├─Conv2d: 1-7                                 [1, 64, 128, 128]         640\n",
       "├─Conv2d: 1-8                                 [1, 64, 128, 128]         4,160\n",
       "├─LeakyReLU: 1-9                              [1, 64, 128, 128]         --\n",
       "├─Conv2d: 1-10                                [1, 64, 256, 256]         640\n",
       "├─Conv2d: 1-11                                [1, 64, 256, 256]         4,160\n",
       "├─LeakyReLU: 1-12                             [1, 64, 256, 256]         --\n",
       "├─Conv2d: 1-13                                [1, 64, 256, 256]         640\n",
       "├─Conv2d: 1-14                                [1, 64, 256, 256]         4,160\n",
       "├─LeakyReLU: 1-15                             [1, 64, 256, 256]         --\n",
       "├─Conv2d: 1-16                                [1, 64, 256, 256]         640\n",
       "├─Conv2d: 1-17                                [1, 3, 256, 256]          195\n",
       "===============================================================================================\n",
       "Total params: 2,453,537\n",
       "Trainable params: 2,453,537\n",
       "Non-trainable params: 0\n",
       "Total mult-adds (G): 10.75\n",
       "===============================================================================================\n",
       "Input size (MB): 0.05\n",
       "Forward/backward pass size (MB): 2146.01\n",
       "Params size (MB): 9.81\n",
       "Estimated Total Size (MB): 2155.87\n",
       "==============================================================================================="
      ]
     },
     "execution_count": 3,
     "metadata": {},
     "output_type": "execute_result"
    }
   ],
   "source": [
    "summary(Generator(), (1, 3, 64, 64))"
   ]
  },
  {
   "cell_type": "code",
   "execution_count": 4,
   "metadata": {},
   "outputs": [
    {
     "data": {
      "text/plain": [
       "==========================================================================================\n",
       "Layer (type:depth-idx)                   Output Shape              Param #\n",
       "==========================================================================================\n",
       "Discriminator                            [1, 1, 256, 256]          --\n",
       "├─Conv2d: 1-1                            [1, 64, 256, 256]         1,792\n",
       "├─Conv2d: 1-2                            [1, 64, 128, 128]         1,024\n",
       "├─Conv2d: 1-3                            [1, 128, 128, 128]        8,192\n",
       "├─LeakyReLU: 1-4                         [1, 128, 128, 128]        --\n",
       "├─Conv2d: 1-5                            [1, 128, 64, 64]          2,048\n",
       "├─Conv2d: 1-6                            [1, 256, 64, 64]          32,768\n",
       "├─LeakyReLU: 1-7                         [1, 256, 64, 64]          --\n",
       "├─Conv2d: 1-8                            [1, 256, 32, 32]          4,096\n",
       "├─Conv2d: 1-9                            [1, 512, 32, 32]          131,072\n",
       "├─LeakyReLU: 1-10                        [1, 512, 32, 32]          --\n",
       "├─Conv2d: 1-11                           [1, 512, 64, 64]          4,608\n",
       "├─Conv2d: 1-12                           [1, 256, 64, 64]          131,072\n",
       "├─LeakyReLU: 1-13                        [1, 256, 64, 64]          --\n",
       "├─Conv2d: 1-14                           [1, 256, 128, 128]        2,304\n",
       "├─Conv2d: 1-15                           [1, 128, 128, 128]        32,768\n",
       "├─LeakyReLU: 1-16                        [1, 128, 128, 128]        --\n",
       "├─Conv2d: 1-17                           [1, 128, 256, 256]        1,152\n",
       "├─Conv2d: 1-18                           [1, 64, 256, 256]         8,192\n",
       "├─LeakyReLU: 1-19                        [1, 64, 256, 256]         --\n",
       "├─Conv2d: 1-20                           [1, 64, 256, 256]         576\n",
       "├─Conv2d: 1-21                           [1, 64, 256, 256]         4,096\n",
       "├─LeakyReLU: 1-22                        [1, 64, 256, 256]         --\n",
       "├─Conv2d: 1-23                           [1, 64, 256, 256]         576\n",
       "├─Conv2d: 1-24                           [1, 64, 256, 256]         4,096\n",
       "├─LeakyReLU: 1-25                        [1, 64, 256, 256]         --\n",
       "├─Conv2d: 1-26                           [1, 64, 256, 256]         640\n",
       "├─Conv2d: 1-27                           [1, 1, 256, 256]          65\n",
       "==========================================================================================\n",
       "Total params: 371,137\n",
       "Trainable params: 371,137\n",
       "Non-trainable params: 0\n",
       "Total mult-adds (M): 515.96\n",
       "==========================================================================================\n",
       "Input size (MB): 0.79\n",
       "Forward/backward pass size (MB): 422.05\n",
       "Params size (MB): 1.48\n",
       "Estimated Total Size (MB): 424.32\n",
       "=========================================================================================="
      ]
     },
     "execution_count": 4,
     "metadata": {},
     "output_type": "execute_result"
    }
   ],
   "source": [
    "summary(Discriminator(), (1, 3, 256, 256))"
   ]
  }
 ],
 "metadata": {
  "kernelspec": {
   "display_name": "Python 3.9.12 ('starsr')",
   "language": "python",
   "name": "python3"
  },
  "language_info": {
   "codemirror_mode": {
    "name": "ipython",
    "version": 3
   },
   "file_extension": ".py",
   "mimetype": "text/x-python",
   "name": "python",
   "nbconvert_exporter": "python",
   "pygments_lexer": "ipython3",
   "version": "3.9.12"
  },
  "orig_nbformat": 4,
  "vscode": {
   "interpreter": {
    "hash": "bada20a173d2e44a05362cb18b4b47fd4618a3a197153ff37ba7a8cabb708adc"
   }
  }
 },
 "nbformat": 4,
 "nbformat_minor": 2
}
